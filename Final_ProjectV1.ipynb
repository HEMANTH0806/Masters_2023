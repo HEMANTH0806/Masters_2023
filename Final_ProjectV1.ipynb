{
 "cells": [
  {
   "cell_type": "markdown",
   "metadata": {
    "id": "ngiSK6MwHMyR"
   },
   "source": [
    "#  **601 Final Project on System of Award Management Archived Opporunities**\n",
    "    By: Lahari Bandaru, Mohana Hemanth Kundurthi, Hemanth Akkenapally\n",
    "---\n",
    "\n",
    "*   Data original location: https://sam.gov/data-services/Contract%20Opportunities/Archived%20Data?privacy=Public\n",
    "\n",
    "*   We have used the archived data from the year 2020 to 2022.\n",
    "\n",
    "\n",
    "---\n",
    "\n",
    "\n",
    " Hypothesis: \n",
    " 1. Based on the year from 2020 to 2022, contracts which are properly documented and archived are decreased due to covid effects.\n",
    " 2. Department of defence and agricultural contracts are more compared to other departments because of the rapid development of the technology.\n",
    "\n",
    "\n",
    "\n"
   ]
  },
  {
   "cell_type": "code",
   "execution_count": null,
   "metadata": {
    "colab": {
     "base_uri": "https://localhost:8080/"
    },
    "id": "gwgrSU2eH7fN",
    "outputId": "1744b754-b70d-40e8-d864-1577f2cfc1d5"
   },
   "outputs": [
    {
     "name": "stdout",
     "output_type": "stream",
     "text": [
      "Drive already mounted at /content/gdrive; to attempt to forcibly remount, call drive.mount(\"/content/gdrive\", force_remount=True).\n"
     ]
    }
   ],
   "source": [
    "# In order to connect the drive and access the files\n",
    "from google.colab import drive\n",
    "drive.mount('/content/gdrive')"
   ]
  },
  {
   "cell_type": "code",
   "execution_count": null,
   "metadata": {
    "id": "Vu9j5OTPTGOf"
   },
   "outputs": [],
   "source": [
    "import pandas as pd\n",
    "import matplotlib.pyplot as plt\n",
    "import re\n",
    "import numpy as np\n",
    "import time\n",
    "import seaborn as sns"
   ]
  },
  {
   "cell_type": "code",
   "execution_count": null,
   "metadata": {
    "colab": {
     "base_uri": "https://localhost:8080/"
    },
    "id": "_H7K7qDKTTCv",
    "outputId": "0ec5e41a-f7ae-407f-8f86-7cf611f669a8"
   },
   "outputs": [
    {
     "name": "stderr",
     "output_type": "stream",
     "text": [
      "<ipython-input-109-3c664f9aaccb>:6: DtypeWarning: Columns (17,27) have mixed types. Specify dtype option on import or set low_memory=False.\n",
      "  df2020 = pd.concat([chunk for chunk in pd.read_csv('https://umbc.box.com/shared/static/91lmieun5u1e8p87wmlnuglyzl3xm91h.csv', encoding='latin1', on_bad_lines='skip', low_memory=True, chunksize=chunk_size)])\n",
      "<ipython-input-109-3c664f9aaccb>:6: DtypeWarning: Columns (27) have mixed types. Specify dtype option on import or set low_memory=False.\n",
      "  df2020 = pd.concat([chunk for chunk in pd.read_csv('https://umbc.box.com/shared/static/91lmieun5u1e8p87wmlnuglyzl3xm91h.csv', encoding='latin1', on_bad_lines='skip', low_memory=True, chunksize=chunk_size)])\n",
      "<ipython-input-109-3c664f9aaccb>:6: DtypeWarning: Columns (27) have mixed types. Specify dtype option on import or set low_memory=False.\n",
      "  df2020 = pd.concat([chunk for chunk in pd.read_csv('https://umbc.box.com/shared/static/91lmieun5u1e8p87wmlnuglyzl3xm91h.csv', encoding='latin1', on_bad_lines='skip', low_memory=True, chunksize=chunk_size)])\n",
      "<ipython-input-109-3c664f9aaccb>:8: DtypeWarning: Columns (27) have mixed types. Specify dtype option on import or set low_memory=False.\n",
      "  df2021 = pd.concat([chunk for chunk in pd.read_csv('https://umbc.box.com/shared/static/7emabgf9ck2afprmrl459jnk30ewmabj.csv', encoding='latin1', on_bad_lines='skip', low_memory=True, chunksize=chunk_size)])\n",
      "<ipython-input-109-3c664f9aaccb>:8: DtypeWarning: Columns (17,27) have mixed types. Specify dtype option on import or set low_memory=False.\n",
      "  df2021 = pd.concat([chunk for chunk in pd.read_csv('https://umbc.box.com/shared/static/7emabgf9ck2afprmrl459jnk30ewmabj.csv', encoding='latin1', on_bad_lines='skip', low_memory=True, chunksize=chunk_size)])\n",
      "<ipython-input-109-3c664f9aaccb>:8: DtypeWarning: Columns (27) have mixed types. Specify dtype option on import or set low_memory=False.\n",
      "  df2021 = pd.concat([chunk for chunk in pd.read_csv('https://umbc.box.com/shared/static/7emabgf9ck2afprmrl459jnk30ewmabj.csv', encoding='latin1', on_bad_lines='skip', low_memory=True, chunksize=chunk_size)])\n",
      "<ipython-input-109-3c664f9aaccb>:8: DtypeWarning: Columns (27) have mixed types. Specify dtype option on import or set low_memory=False.\n",
      "  df2021 = pd.concat([chunk for chunk in pd.read_csv('https://umbc.box.com/shared/static/7emabgf9ck2afprmrl459jnk30ewmabj.csv', encoding='latin1', on_bad_lines='skip', low_memory=True, chunksize=chunk_size)])\n",
      "<ipython-input-109-3c664f9aaccb>:10: DtypeWarning: Columns (27,34,38,44) have mixed types. Specify dtype option on import or set low_memory=False.\n",
      "  df2022 = pd.concat([chunk for chunk in pd.read_csv('https://umbc.box.com/shared/static/tdkmuj86qm2uxhvjlfkav2i3pnx9fkoa.csv', encoding='latin1', on_bad_lines='skip', low_memory=True, chunksize=chunk_size)])\n",
      "<ipython-input-109-3c664f9aaccb>:10: DtypeWarning: Columns (17,34,44) have mixed types. Specify dtype option on import or set low_memory=False.\n",
      "  df2022 = pd.concat([chunk for chunk in pd.read_csv('https://umbc.box.com/shared/static/tdkmuj86qm2uxhvjlfkav2i3pnx9fkoa.csv', encoding='latin1', on_bad_lines='skip', low_memory=True, chunksize=chunk_size)])\n",
      "<ipython-input-109-3c664f9aaccb>:10: DtypeWarning: Columns (27,34) have mixed types. Specify dtype option on import or set low_memory=False.\n",
      "  df2022 = pd.concat([chunk for chunk in pd.read_csv('https://umbc.box.com/shared/static/tdkmuj86qm2uxhvjlfkav2i3pnx9fkoa.csv', encoding='latin1', on_bad_lines='skip', low_memory=True, chunksize=chunk_size)])\n",
      "<ipython-input-109-3c664f9aaccb>:10: DtypeWarning: Columns (27) have mixed types. Specify dtype option on import or set low_memory=False.\n",
      "  df2022 = pd.concat([chunk for chunk in pd.read_csv('https://umbc.box.com/shared/static/tdkmuj86qm2uxhvjlfkav2i3pnx9fkoa.csv', encoding='latin1', on_bad_lines='skip', low_memory=True, chunksize=chunk_size)])\n"
     ]
    }
   ],
   "source": [
    "# reading the data into pandas dataframe\n",
    "\n",
    "start_time = time.time()\n",
    "chunk_size = 100000  # Adjust the chunk size\n",
    "\n",
    "df2020 = pd.concat([chunk for chunk in pd.read_csv('https://umbc.box.com/shared/static/91lmieun5u1e8p87wmlnuglyzl3xm91h.csv', encoding='latin1', on_bad_lines='skip', low_memory=True, chunksize=chunk_size)])\n",
    "\n",
    "df2021 = pd.concat([chunk for chunk in pd.read_csv('https://umbc.box.com/shared/static/7emabgf9ck2afprmrl459jnk30ewmabj.csv', encoding='latin1', on_bad_lines='skip', low_memory=True, chunksize=chunk_size)])\n",
    "\n",
    "df2022 = pd.concat([chunk for chunk in pd.read_csv('https://umbc.box.com/shared/static/tdkmuj86qm2uxhvjlfkav2i3pnx9fkoa.csv', encoding='latin1', on_bad_lines='skip', low_memory=True, chunksize=chunk_size)])"
   ]
  },
  {
   "cell_type": "markdown",
   "metadata": {
    "id": "1MLOVxN9RFba"
   },
   "source": [
    "Every Dataset has same set of columns and same type of information, which can reduce the code length and decreases the execution time.\n",
    "But in order to get the exact length of null values and the data types info() has to be done individually."
   ]
  },
  {
   "cell_type": "markdown",
   "metadata": {
    "id": "pUi9iMscP7oh"
   },
   "source": [
    "### 1. Data Cleaning"
   ]
  },
  {
   "cell_type": "code",
   "execution_count": null,
   "metadata": {
    "colab": {
     "base_uri": "https://localhost:8080/"
    },
    "id": "l-mGQtHjaPgp",
    "outputId": "d433a2ee-e46e-401f-9ff4-f2a54c9ea3e8"
   },
   "outputs": [
    {
     "name": "stdout",
     "output_type": "stream",
     "text": [
      "<class 'pandas.core.frame.DataFrame'>\n",
      "RangeIndex: 371315 entries, 0 to 371314\n",
      "Data columns (total 47 columns):\n",
      " #   Column                    Non-Null Count   Dtype  \n",
      "---  ------                    --------------   -----  \n",
      " 0   NoticeId                  371315 non-null  object \n",
      " 1   Title                     371314 non-null  object \n",
      " 2   Sol#                      367836 non-null  object \n",
      " 3   Department/Ind.Agency     356959 non-null  object \n",
      " 4   CGAC                      356959 non-null  float64\n",
      " 5   Sub-Tier                  356662 non-null  object \n",
      " 6   FPDS Code                 356854 non-null  object \n",
      " 7   Office                    356951 non-null  object \n",
      " 8   AAC Code                  355070 non-null  object \n",
      " 9   PostedDate                371315 non-null  object \n",
      " 10  Type                      371315 non-null  object \n",
      " 11  BaseType                  371315 non-null  object \n",
      " 12  ArchiveType               371315 non-null  object \n",
      " 13  ArchiveDate               369589 non-null  object \n",
      " 14  SetASideCode              134088 non-null  object \n",
      " 15  SetASide                  134088 non-null  object \n",
      " 16  ResponseDeadLine          285199 non-null  object \n",
      " 17  NaicsCode                 351631 non-null  object \n",
      " 18  ClassificationCode        360561 non-null  object \n",
      " 19  PopStreetAddress          34787 non-null   object \n",
      " 20  PopCity                   116094 non-null  object \n",
      " 21  PopState                  121300 non-null  object \n",
      " 22  PopZip                    122016 non-null  object \n",
      " 23  PopCountry                162309 non-null  object \n",
      " 24  Active                    371315 non-null  object \n",
      " 25  AwardNumber               76698 non-null   object \n",
      " 26  AwardDate                 76173 non-null   object \n",
      " 27  Award$                    69117 non-null   object \n",
      " 28  Awardee                   190757 non-null  object \n",
      " 29  PrimaryContactTitle       32498 non-null   object \n",
      " 30  PrimaryContactFullname    368070 non-null  object \n",
      " 31  PrimaryContactEmail       350090 non-null  object \n",
      " 32  PrimaryContactPhone       158121 non-null  object \n",
      " 33  PrimaryContactFax         17290 non-null   object \n",
      " 34  SecondaryContactTitle     9584 non-null    object \n",
      " 35  SecondaryContactFullname  94092 non-null   object \n",
      " 36  SecondaryContactEmail     93523 non-null   object \n",
      " 37  SecondaryContactPhone     75836 non-null   object \n",
      " 38  SecondaryContactFax       9935 non-null    object \n",
      " 39  OrganizationType          356959 non-null  object \n",
      " 40  State                     354230 non-null  object \n",
      " 41  City                      355219 non-null  object \n",
      " 42  ZipCode                   354221 non-null  object \n",
      " 43  CountryCode               355562 non-null  object \n",
      " 44  AdditionalInfoLink        0 non-null       float64\n",
      " 45  Link                      371315 non-null  object \n",
      " 46  Description               324966 non-null  object \n",
      "dtypes: float64(2), object(45)\n",
      "memory usage: 133.1+ MB\n"
     ]
    }
   ],
   "source": [
    "df2020.info()"
   ]
  },
  {
   "cell_type": "code",
   "execution_count": null,
   "metadata": {
    "colab": {
     "base_uri": "https://localhost:8080/"
    },
    "id": "lVDmS-S6RrdY",
    "outputId": "c3e5de64-358c-4a9a-ee39-6b060b9d5d50"
   },
   "outputs": [
    {
     "name": "stdout",
     "output_type": "stream",
     "text": [
      "<class 'pandas.core.frame.DataFrame'>\n",
      "RangeIndex: 350988 entries, 0 to 350987\n",
      "Data columns (total 47 columns):\n",
      " #   Column                    Non-Null Count   Dtype  \n",
      "---  ------                    --------------   -----  \n",
      " 0   NoticeId                  350988 non-null  object \n",
      " 1   Title                     350986 non-null  object \n",
      " 2   Sol#                      348233 non-null  object \n",
      " 3   Department/Ind.Agency     350964 non-null  object \n",
      " 4   CGAC                      350964 non-null  float64\n",
      " 5   Sub-Tier                  350590 non-null  object \n",
      " 6   FPDS Code                 350964 non-null  object \n",
      " 7   Office                    350947 non-null  object \n",
      " 8   AAC Code                  348522 non-null  object \n",
      " 9   PostedDate                350988 non-null  object \n",
      " 10  Type                      350988 non-null  object \n",
      " 11  BaseType                  350987 non-null  object \n",
      " 12  ArchiveType               350988 non-null  object \n",
      " 13  ArchiveDate               350988 non-null  object \n",
      " 14  SetASideCode              129664 non-null  object \n",
      " 15  SetASide                  129664 non-null  object \n",
      " 16  ResponseDeadLine          269890 non-null  object \n",
      " 17  NaicsCode                 333464 non-null  object \n",
      " 18  ClassificationCode        338890 non-null  object \n",
      " 19  PopStreetAddress          24397 non-null   object \n",
      " 20  PopCity                   129344 non-null  object \n",
      " 21  PopState                  130041 non-null  object \n",
      " 22  PopZip                    123610 non-null  object \n",
      " 23  PopCountry                158394 non-null  object \n",
      " 24  Active                    350988 non-null  object \n",
      " 25  AwardNumber               73952 non-null   object \n",
      " 26  AwardDate                 73524 non-null   object \n",
      " 27  Award$                    68103 non-null   object \n",
      " 28  Awardee                   118111 non-null  object \n",
      " 29  PrimaryContactTitle       32778 non-null   object \n",
      " 30  PrimaryContactFullname    348457 non-null  object \n",
      " 31  PrimaryContactEmail       348065 non-null  object \n",
      " 32  PrimaryContactPhone       166347 non-null  object \n",
      " 33  PrimaryContactFax         22920 non-null   object \n",
      " 34  SecondaryContactTitle     765 non-null     object \n",
      " 35  SecondaryContactFullname  91524 non-null   object \n",
      " 36  SecondaryContactEmail     91330 non-null   object \n",
      " 37  SecondaryContactPhone     65860 non-null   object \n",
      " 38  SecondaryContactFax       7361 non-null    object \n",
      " 39  OrganizationType          350964 non-null  object \n",
      " 40  State                     347718 non-null  object \n",
      " 41  City                      348644 non-null  object \n",
      " 42  ZipCode                   347715 non-null  object \n",
      " 43  CountryCode               349143 non-null  object \n",
      " 44  AdditionalInfoLink        0 non-null       float64\n",
      " 45  Link                      350988 non-null  object \n",
      " 46  Description               309066 non-null  object \n",
      "dtypes: float64(2), object(45)\n",
      "memory usage: 125.9+ MB\n"
     ]
    }
   ],
   "source": [
    "df2021.info()"
   ]
  },
  {
   "cell_type": "code",
   "execution_count": null,
   "metadata": {
    "colab": {
     "base_uri": "https://localhost:8080/"
    },
    "id": "FkNC_U_VRsKX",
    "outputId": "7c74918b-5536-4d90-d7b8-671905dd376b"
   },
   "outputs": [
    {
     "name": "stdout",
     "output_type": "stream",
     "text": [
      "<class 'pandas.core.frame.DataFrame'>\n",
      "RangeIndex: 341592 entries, 0 to 341591\n",
      "Data columns (total 47 columns):\n",
      " #   Column                    Non-Null Count   Dtype  \n",
      "---  ------                    --------------   -----  \n",
      " 0   NoticeId                  341592 non-null  object \n",
      " 1   Title                     341592 non-null  object \n",
      " 2   Sol#                      338625 non-null  object \n",
      " 3   Department/Ind.Agency     341583 non-null  object \n",
      " 4   CGAC                      341583 non-null  float64\n",
      " 5   Sub-Tier                  341169 non-null  object \n",
      " 6   FPDS Code                 341583 non-null  object \n",
      " 7   Office                    341566 non-null  object \n",
      " 8   AAC Code                  338685 non-null  object \n",
      " 9   PostedDate                341592 non-null  object \n",
      " 10  Type                      341592 non-null  object \n",
      " 11  BaseType                  341592 non-null  object \n",
      " 12  ArchiveType               341592 non-null  object \n",
      " 13  ArchiveDate               304479 non-null  object \n",
      " 14  SetASideCode              128073 non-null  object \n",
      " 15  SetASide                  128073 non-null  object \n",
      " 16  ResponseDeadLine          266089 non-null  object \n",
      " 17  NaicsCode                 322185 non-null  object \n",
      " 18  ClassificationCode        330572 non-null  object \n",
      " 19  PopStreetAddress          23699 non-null   object \n",
      " 20  PopCity                   135373 non-null  object \n",
      " 21  PopState                  132023 non-null  object \n",
      " 22  PopZip                    124580 non-null  object \n",
      " 23  PopCountry                155600 non-null  object \n",
      " 24  Active                    341592 non-null  object \n",
      " 25  AwardNumber               69421 non-null   object \n",
      " 26  AwardDate                 69367 non-null   object \n",
      " 27  Award$                    64202 non-null   object \n",
      " 28  Awardee                   91409 non-null   object \n",
      " 29  PrimaryContactTitle       31219 non-null   object \n",
      " 30  PrimaryContactFullname    339577 non-null  object \n",
      " 31  PrimaryContactEmail       339768 non-null  object \n",
      " 32  PrimaryContactPhone       160113 non-null  object \n",
      " 33  PrimaryContactFax         18759 non-null   object \n",
      " 34  SecondaryContactTitle     224 non-null     object \n",
      " 35  SecondaryContactFullname  88943 non-null   object \n",
      " 36  SecondaryContactEmail     88898 non-null   object \n",
      " 37  SecondaryContactPhone     60932 non-null   object \n",
      " 38  SecondaryContactFax       6190 non-null    object \n",
      " 39  OrganizationType          341583 non-null  object \n",
      " 40  State                     337983 non-null  object \n",
      " 41  City                      338812 non-null  object \n",
      " 42  ZipCode                   337973 non-null  object \n",
      " 43  CountryCode               339313 non-null  object \n",
      " 44  AdditionalInfoLink        2 non-null       object \n",
      " 45  Link                      341592 non-null  object \n",
      " 46  Description               301617 non-null  object \n",
      "dtypes: float64(1), object(46)\n",
      "memory usage: 122.5+ MB\n"
     ]
    }
   ],
   "source": [
    "df2022.info()"
   ]
  },
  {
   "cell_type": "code",
   "execution_count": null,
   "metadata": {
    "colab": {
     "base_uri": "https://localhost:8080/"
    },
    "id": "cY2-lwcxR1lc",
    "outputId": "31401bbe-34d0-419d-9190-6e71f698dd2f"
   },
   "outputs": [
    {
     "data": {
      "text/plain": [
       "NoticeId                         0\n",
       "Title                            1\n",
       "Sol#                          3479\n",
       "Department/Ind.Agency        14356\n",
       "CGAC                         14356\n",
       "Sub-Tier                     14653\n",
       "FPDS Code                    14461\n",
       "Office                       14364\n",
       "AAC Code                     16245\n",
       "PostedDate                       0\n",
       "Type                             0\n",
       "BaseType                         0\n",
       "ArchiveType                      0\n",
       "ArchiveDate                   1726\n",
       "SetASideCode                237227\n",
       "SetASide                    237227\n",
       "ResponseDeadLine             86116\n",
       "NaicsCode                    19684\n",
       "ClassificationCode           10754\n",
       "PopStreetAddress            336528\n",
       "PopCity                     255221\n",
       "PopState                    250015\n",
       "PopZip                      249299\n",
       "PopCountry                  209006\n",
       "Active                           0\n",
       "AwardNumber                 294617\n",
       "AwardDate                   295142\n",
       "Award$                      302198\n",
       "Awardee                     180558\n",
       "PrimaryContactTitle         338817\n",
       "PrimaryContactFullname        3245\n",
       "PrimaryContactEmail          21225\n",
       "PrimaryContactPhone         213194\n",
       "PrimaryContactFax           354025\n",
       "SecondaryContactTitle       361731\n",
       "SecondaryContactFullname    277223\n",
       "SecondaryContactEmail       277792\n",
       "SecondaryContactPhone       295479\n",
       "SecondaryContactFax         361380\n",
       "OrganizationType             14356\n",
       "State                        17085\n",
       "City                         16096\n",
       "ZipCode                      17094\n",
       "CountryCode                  15753\n",
       "AdditionalInfoLink          371315\n",
       "Link                             0\n",
       "Description                  46349\n",
       "dtype: int64"
      ]
     },
     "execution_count": 113,
     "metadata": {},
     "output_type": "execute_result"
    }
   ],
   "source": [
    "df2020.isnull().sum()"
   ]
  },
  {
   "cell_type": "code",
   "execution_count": null,
   "metadata": {
    "colab": {
     "base_uri": "https://localhost:8080/"
    },
    "id": "i5NJYkFoTBic",
    "outputId": "881c151d-b393-421d-8c33-7098577c3881"
   },
   "outputs": [
    {
     "data": {
      "text/plain": [
       "NoticeId                         0\n",
       "Title                            2\n",
       "Sol#                          2755\n",
       "Department/Ind.Agency           24\n",
       "CGAC                            24\n",
       "Sub-Tier                       398\n",
       "FPDS Code                       24\n",
       "Office                          41\n",
       "AAC Code                      2466\n",
       "PostedDate                       0\n",
       "Type                             0\n",
       "BaseType                         1\n",
       "ArchiveType                      0\n",
       "ArchiveDate                      0\n",
       "SetASideCode                221324\n",
       "SetASide                    221324\n",
       "ResponseDeadLine             81098\n",
       "NaicsCode                    17524\n",
       "ClassificationCode           12098\n",
       "PopStreetAddress            326591\n",
       "PopCity                     221644\n",
       "PopState                    220947\n",
       "PopZip                      227378\n",
       "PopCountry                  192594\n",
       "Active                           0\n",
       "AwardNumber                 277036\n",
       "AwardDate                   277464\n",
       "Award$                      282885\n",
       "Awardee                     232877\n",
       "PrimaryContactTitle         318210\n",
       "PrimaryContactFullname        2531\n",
       "PrimaryContactEmail           2923\n",
       "PrimaryContactPhone         184641\n",
       "PrimaryContactFax           328068\n",
       "SecondaryContactTitle       350223\n",
       "SecondaryContactFullname    259464\n",
       "SecondaryContactEmail       259658\n",
       "SecondaryContactPhone       285128\n",
       "SecondaryContactFax         343627\n",
       "OrganizationType                24\n",
       "State                         3270\n",
       "City                          2344\n",
       "ZipCode                       3273\n",
       "CountryCode                   1845\n",
       "AdditionalInfoLink          350988\n",
       "Link                             0\n",
       "Description                  41922\n",
       "dtype: int64"
      ]
     },
     "execution_count": 114,
     "metadata": {},
     "output_type": "execute_result"
    }
   ],
   "source": [
    "df2021.isnull().sum()"
   ]
  },
  {
   "cell_type": "code",
   "execution_count": null,
   "metadata": {
    "colab": {
     "base_uri": "https://localhost:8080/"
    },
    "id": "TSTwb_LOTD4l",
    "outputId": "bac4632e-7254-4e5b-b8aa-16dcfbe61dbf"
   },
   "outputs": [
    {
     "data": {
      "text/plain": [
       "NoticeId                         0\n",
       "Title                            0\n",
       "Sol#                          2967\n",
       "Department/Ind.Agency            9\n",
       "CGAC                             9\n",
       "Sub-Tier                       423\n",
       "FPDS Code                        9\n",
       "Office                          26\n",
       "AAC Code                      2907\n",
       "PostedDate                       0\n",
       "Type                             0\n",
       "BaseType                         0\n",
       "ArchiveType                      0\n",
       "ArchiveDate                  37113\n",
       "SetASideCode                213519\n",
       "SetASide                    213519\n",
       "ResponseDeadLine             75503\n",
       "NaicsCode                    19407\n",
       "ClassificationCode           11020\n",
       "PopStreetAddress            317893\n",
       "PopCity                     206219\n",
       "PopState                    209569\n",
       "PopZip                      217012\n",
       "PopCountry                  185992\n",
       "Active                           0\n",
       "AwardNumber                 272171\n",
       "AwardDate                   272225\n",
       "Award$                      277390\n",
       "Awardee                     250183\n",
       "PrimaryContactTitle         310373\n",
       "PrimaryContactFullname        2015\n",
       "PrimaryContactEmail           1824\n",
       "PrimaryContactPhone         181479\n",
       "PrimaryContactFax           322833\n",
       "SecondaryContactTitle       341368\n",
       "SecondaryContactFullname    252649\n",
       "SecondaryContactEmail       252694\n",
       "SecondaryContactPhone       280660\n",
       "SecondaryContactFax         335402\n",
       "OrganizationType                 9\n",
       "State                         3609\n",
       "City                          2780\n",
       "ZipCode                       3619\n",
       "CountryCode                   2279\n",
       "AdditionalInfoLink          341590\n",
       "Link                             0\n",
       "Description                  39975\n",
       "dtype: int64"
      ]
     },
     "execution_count": 115,
     "metadata": {},
     "output_type": "execute_result"
    }
   ],
   "source": [
    "df2022.isnull().sum()"
   ]
  },
  {
   "cell_type": "markdown",
   "metadata": {
    "id": "Ur39ulKRTJgW"
   },
   "source": [
    "Each DataFrame has a huge number of null values but for the hypothesis we propose we need only certain set of columns, remaining can be dropped."
   ]
  },
  {
   "cell_type": "code",
   "execution_count": null,
   "metadata": {
    "id": "Cd7l9eDfQUL4"
   },
   "outputs": [],
   "source": [
    "# droping columns which has more than 10% of null values except 'AwardDate','Award$','Awardee','ArchiveDate' these columns\n",
    "\n",
    "def null_droper(df):\n",
    "  a=(df.isnull().sum())*(100/len(df))\n",
    "  col_drop=[]\n",
    "  for i in a.index:\n",
    "    if(a[i]>=10):\n",
    "      #print(i)\n",
    "      col_drop.append(i)\n",
    "  #print(len(col_drop))\n",
    "  except_col=['AwardDate','Award$','Awardee','ArchiveDate']\n",
    "  col_drop=[col for col in col_drop if col not in except_col]\n",
    "  df1=df.drop(col_drop,axis=1)\n",
    "  return df1"
   ]
  },
  {
   "cell_type": "code",
   "execution_count": null,
   "metadata": {
    "id": "FJtQarkWQulD"
   },
   "outputs": [],
   "source": [
    "df2020V1=null_droper(df2020)\n",
    "df2021V1=null_droper(df2021)\n",
    "df2022V1=null_droper(df2022)"
   ]
  },
  {
   "cell_type": "code",
   "execution_count": null,
   "metadata": {
    "colab": {
     "base_uri": "https://localhost:8080/"
    },
    "id": "e6Br6KpsRjVe",
    "outputId": "98510301-f616-4eac-e833-1f152cd4b8a0"
   },
   "outputs": [
    {
     "name": "stdout",
     "output_type": "stream",
     "text": [
      "<class 'pandas.core.frame.DataFrame'>\n",
      "RangeIndex: 371315 entries, 0 to 371314\n",
      "Data columns (total 28 columns):\n",
      " #   Column                  Non-Null Count   Dtype  \n",
      "---  ------                  --------------   -----  \n",
      " 0   NoticeId                371315 non-null  object \n",
      " 1   Title                   371314 non-null  object \n",
      " 2   Sol#                    367836 non-null  object \n",
      " 3   Department/Ind.Agency   356959 non-null  object \n",
      " 4   CGAC                    356959 non-null  float64\n",
      " 5   Sub-Tier                356662 non-null  object \n",
      " 6   FPDS Code               356854 non-null  object \n",
      " 7   Office                  356951 non-null  object \n",
      " 8   AAC Code                355070 non-null  object \n",
      " 9   PostedDate              371315 non-null  object \n",
      " 10  Type                    371315 non-null  object \n",
      " 11  BaseType                371315 non-null  object \n",
      " 12  ArchiveType             371315 non-null  object \n",
      " 13  ArchiveDate             369589 non-null  object \n",
      " 14  NaicsCode               351631 non-null  object \n",
      " 15  ClassificationCode      360561 non-null  object \n",
      " 16  Active                  371315 non-null  object \n",
      " 17  AwardDate               76173 non-null   object \n",
      " 18  Award$                  69117 non-null   object \n",
      " 19  Awardee                 190757 non-null  object \n",
      " 20  PrimaryContactFullname  368070 non-null  object \n",
      " 21  PrimaryContactEmail     350090 non-null  object \n",
      " 22  OrganizationType        356959 non-null  object \n",
      " 23  State                   354230 non-null  object \n",
      " 24  City                    355219 non-null  object \n",
      " 25  ZipCode                 354221 non-null  object \n",
      " 26  CountryCode             355562 non-null  object \n",
      " 27  Link                    371315 non-null  object \n",
      "dtypes: float64(1), object(27)\n",
      "memory usage: 79.3+ MB\n"
     ]
    }
   ],
   "source": [
    "df2020V1.info()"
   ]
  },
  {
   "cell_type": "code",
   "execution_count": null,
   "metadata": {
    "colab": {
     "base_uri": "https://localhost:8080/"
    },
    "id": "wG5oWRTswJcf",
    "outputId": "1aa503af-7f15-4f00-b231-2865fcdaa64d"
   },
   "outputs": [
    {
     "name": "stdout",
     "output_type": "stream",
     "text": [
      "Checking whether the df2020V1 columns and df2021V1 columns same or not: True\n",
      "Checking whether the df2020V1 columns and df2022V1 columns same or not: True\n"
     ]
    }
   ],
   "source": [
    "print(\"Checking whether the df2020V1 columns and df2021V1 columns same or not:\",list(df2020V1.columns)==list(df2021V1.columns))\n",
    "print(\"Checking whether the df2020V1 columns and df2022V1 columns same or not:\",list(df2020V1.columns)==list(df2022V1.columns))"
   ]
  },
  {
   "cell_type": "code",
   "execution_count": null,
   "metadata": {
    "id": "s9iyvYGJzs1r"
   },
   "outputs": [],
   "source": [
    "df = pd.concat([df2020V1, df2021V1,df2022V1])\n",
    "df=df.reset_index(drop=True)"
   ]
  },
  {
   "cell_type": "code",
   "execution_count": null,
   "metadata": {
    "colab": {
     "base_uri": "https://localhost:8080/"
    },
    "id": "qCiL2Epy0lPp",
    "outputId": "d1c8e325-728a-4fc3-de21-9df5eae452d3"
   },
   "outputs": [
    {
     "name": "stdout",
     "output_type": "stream",
     "text": [
      "<class 'pandas.core.frame.DataFrame'>\n",
      "RangeIndex: 1063895 entries, 0 to 1063894\n",
      "Data columns (total 28 columns):\n",
      " #   Column                  Non-Null Count    Dtype  \n",
      "---  ------                  --------------    -----  \n",
      " 0   NoticeId                1063895 non-null  object \n",
      " 1   Title                   1063892 non-null  object \n",
      " 2   Sol#                    1054694 non-null  object \n",
      " 3   Department/Ind.Agency   1049506 non-null  object \n",
      " 4   CGAC                    1049506 non-null  float64\n",
      " 5   Sub-Tier                1048421 non-null  object \n",
      " 6   FPDS Code               1049401 non-null  object \n",
      " 7   Office                  1049464 non-null  object \n",
      " 8   AAC Code                1042277 non-null  object \n",
      " 9   PostedDate              1063895 non-null  object \n",
      " 10  Type                    1063895 non-null  object \n",
      " 11  BaseType                1063894 non-null  object \n",
      " 12  ArchiveType             1063895 non-null  object \n",
      " 13  ArchiveDate             1025056 non-null  object \n",
      " 14  NaicsCode               1007280 non-null  object \n",
      " 15  ClassificationCode      1030023 non-null  object \n",
      " 16  Active                  1063895 non-null  object \n",
      " 17  AwardDate               219064 non-null   object \n",
      " 18  Award$                  201422 non-null   object \n",
      " 19  Awardee                 400277 non-null   object \n",
      " 20  PrimaryContactFullname  1056104 non-null  object \n",
      " 21  PrimaryContactEmail     1037923 non-null  object \n",
      " 22  OrganizationType        1049506 non-null  object \n",
      " 23  State                   1039931 non-null  object \n",
      " 24  City                    1042675 non-null  object \n",
      " 25  ZipCode                 1039909 non-null  object \n",
      " 26  CountryCode             1044018 non-null  object \n",
      " 27  Link                    1063895 non-null  object \n",
      "dtypes: float64(1), object(27)\n",
      "memory usage: 227.3+ MB\n"
     ]
    }
   ],
   "source": [
    "df.info()"
   ]
  },
  {
   "cell_type": "code",
   "execution_count": null,
   "metadata": {
    "id": "x5UkclEF00zD"
   },
   "outputs": [],
   "source": [
    "dfV1 = df.dropna(subset=['Award$'])"
   ]
  },
  {
   "cell_type": "code",
   "execution_count": null,
   "metadata": {
    "colab": {
     "base_uri": "https://localhost:8080/"
    },
    "id": "-knqwvWR3TEb",
    "outputId": "0b928fb1-6f8f-429c-e333-c5b31c471271"
   },
   "outputs": [
    {
     "name": "stdout",
     "output_type": "stream",
     "text": [
      "<class 'pandas.core.frame.DataFrame'>\n",
      "Int64Index: 201422 entries, 0 to 1063894\n",
      "Data columns (total 28 columns):\n",
      " #   Column                  Non-Null Count   Dtype  \n",
      "---  ------                  --------------   -----  \n",
      " 0   NoticeId                201422 non-null  object \n",
      " 1   Title                   201421 non-null  object \n",
      " 2   Sol#                    200777 non-null  object \n",
      " 3   Department/Ind.Agency   196657 non-null  object \n",
      " 4   CGAC                    196657 non-null  float64\n",
      " 5   Sub-Tier                196657 non-null  object \n",
      " 6   FPDS Code               196654 non-null  object \n",
      " 7   Office                  196657 non-null  object \n",
      " 8   AAC Code                196657 non-null  object \n",
      " 9   PostedDate              201422 non-null  object \n",
      " 10  Type                    201422 non-null  object \n",
      " 11  BaseType                201422 non-null  object \n",
      " 12  ArchiveType             201422 non-null  object \n",
      " 13  ArchiveDate             201352 non-null  object \n",
      " 14  NaicsCode               184750 non-null  object \n",
      " 15  ClassificationCode      195204 non-null  object \n",
      " 16  Active                  201422 non-null  object \n",
      " 17  AwardDate               201413 non-null  object \n",
      " 18  Award$                  201422 non-null  object \n",
      " 19  Awardee                 201414 non-null  object \n",
      " 20  PrimaryContactFullname  198344 non-null  object \n",
      " 21  PrimaryContactEmail     192538 non-null  object \n",
      " 22  OrganizationType        196657 non-null  object \n",
      " 23  State                   196491 non-null  object \n",
      " 24  City                    196647 non-null  object \n",
      " 25  ZipCode                 196491 non-null  object \n",
      " 26  CountryCode             196655 non-null  object \n",
      " 27  Link                    201422 non-null  object \n",
      "dtypes: float64(1), object(27)\n",
      "memory usage: 44.6+ MB\n"
     ]
    }
   ],
   "source": [
    "dfV1.info()"
   ]
  },
  {
   "cell_type": "code",
   "execution_count": null,
   "metadata": {
    "id": "MUBamsCETPoi"
   },
   "outputs": [],
   "source": [
    "def convert_column_to_float(column):\n",
    "    new_column = []\n",
    "    for value in column:\n",
    "        try:\n",
    "            new_value = float(value)\n",
    "            new_column.append(new_value)\n",
    "        except ValueError:\n",
    "            # If the value couldn't be converted to a float, try to extract a number from the text.\n",
    "            matches = re.findall(r'\\d+', value)\n",
    "            if len(matches) == 1:\n",
    "                new_value = float(matches[0])\n",
    "                new_column.append(new_value)\n",
    "            else:\n",
    "                # If there were no numbers in the text or more than one number was found, remove the row.\n",
    "                new_column.append(np.nan)\n",
    "                continue\n",
    "    return new_column"
   ]
  },
  {
   "cell_type": "code",
   "execution_count": null,
   "metadata": {
    "colab": {
     "base_uri": "https://localhost:8080/"
    },
    "id": "_biCHsE7VTYa",
    "outputId": "8c1dc12b-e8bc-45b9-d4c8-d82a0140dd77"
   },
   "outputs": [
    {
     "name": "stderr",
     "output_type": "stream",
     "text": [
      "<ipython-input-125-5588b833215a>:1: SettingWithCopyWarning: \n",
      "A value is trying to be set on a copy of a slice from a DataFrame.\n",
      "Try using .loc[row_indexer,col_indexer] = value instead\n",
      "\n",
      "See the caveats in the documentation: https://pandas.pydata.org/pandas-docs/stable/user_guide/indexing.html#returning-a-view-versus-a-copy\n",
      "  dfV1['Award$']=convert_column_to_float(dfV1['Award$'])\n"
     ]
    }
   ],
   "source": [
    "dfV1['Award$']=convert_column_to_float(dfV1['Award$'])"
   ]
  },
  {
   "cell_type": "code",
   "execution_count": null,
   "metadata": {
    "colab": {
     "base_uri": "https://localhost:8080/"
    },
    "id": "9k445ASsC5FR",
    "outputId": "00ce84b1-4ce5-4930-af2d-0c0a5b49725d"
   },
   "outputs": [
    {
     "name": "stdout",
     "output_type": "stream",
     "text": [
      "<class 'pandas.core.frame.DataFrame'>\n",
      "Int64Index: 201422 entries, 0 to 1063894\n",
      "Data columns (total 28 columns):\n",
      " #   Column                  Non-Null Count   Dtype  \n",
      "---  ------                  --------------   -----  \n",
      " 0   NoticeId                201422 non-null  object \n",
      " 1   Title                   201421 non-null  object \n",
      " 2   Sol#                    200777 non-null  object \n",
      " 3   Department/Ind.Agency   196657 non-null  object \n",
      " 4   CGAC                    196657 non-null  float64\n",
      " 5   Sub-Tier                196657 non-null  object \n",
      " 6   FPDS Code               196654 non-null  object \n",
      " 7   Office                  196657 non-null  object \n",
      " 8   AAC Code                196657 non-null  object \n",
      " 9   PostedDate              201422 non-null  object \n",
      " 10  Type                    201422 non-null  object \n",
      " 11  BaseType                201422 non-null  object \n",
      " 12  ArchiveType             201422 non-null  object \n",
      " 13  ArchiveDate             201352 non-null  object \n",
      " 14  NaicsCode               184750 non-null  object \n",
      " 15  ClassificationCode      195204 non-null  object \n",
      " 16  Active                  201422 non-null  object \n",
      " 17  AwardDate               201413 non-null  object \n",
      " 18  Award$                  198593 non-null  float64\n",
      " 19  Awardee                 201414 non-null  object \n",
      " 20  PrimaryContactFullname  198344 non-null  object \n",
      " 21  PrimaryContactEmail     192538 non-null  object \n",
      " 22  OrganizationType        196657 non-null  object \n",
      " 23  State                   196491 non-null  object \n",
      " 24  City                    196647 non-null  object \n",
      " 25  ZipCode                 196491 non-null  object \n",
      " 26  CountryCode             196655 non-null  object \n",
      " 27  Link                    201422 non-null  object \n",
      "dtypes: float64(2), object(26)\n",
      "memory usage: 44.6+ MB\n"
     ]
    }
   ],
   "source": [
    "dfV1.info()"
   ]
  },
  {
   "cell_type": "code",
   "execution_count": null,
   "metadata": {
    "colab": {
     "base_uri": "https://localhost:8080/"
    },
    "id": "64jsDEG39N9l",
    "outputId": "4d4f435e-01fc-455e-e320-67ac0f30d5b6"
   },
   "outputs": [
    {
     "name": "stderr",
     "output_type": "stream",
     "text": [
      "<ipython-input-127-5862523019b3>:1: SettingWithCopyWarning: \n",
      "A value is trying to be set on a copy of a slice from a DataFrame.\n",
      "Try using .loc[row_indexer,col_indexer] = value instead\n",
      "\n",
      "See the caveats in the documentation: https://pandas.pydata.org/pandas-docs/stable/user_guide/indexing.html#returning-a-view-versus-a-copy\n",
      "  dfV1['Awardee']=dfV1['Awardee'].replace('null', 'Unknown_contractor')\n",
      "<ipython-input-127-5862523019b3>:2: SettingWithCopyWarning: \n",
      "A value is trying to be set on a copy of a slice from a DataFrame.\n",
      "Try using .loc[row_indexer,col_indexer] = value instead\n",
      "\n",
      "See the caveats in the documentation: https://pandas.pydata.org/pandas-docs/stable/user_guide/indexing.html#returning-a-view-versus-a-copy\n",
      "  dfV1['Awardee']=dfV1['Awardee'].replace('null ', 'Unknown_contractor')\n"
     ]
    }
   ],
   "source": [
    "dfV1['Awardee']=dfV1['Awardee'].replace('null', 'Unknown_contractor')\n",
    "dfV1['Awardee']=dfV1['Awardee'].replace('null ', 'Unknown_contractor')"
   ]
  },
  {
   "cell_type": "markdown",
   "metadata": {
    "id": "6MhazN0hGwFd"
   },
   "source": [
    "\n",
    "\n",
    "Dropping the unnecessary columns from the concatinated dataset\n",
    "\n",
    "\n",
    "\n"
   ]
  },
  {
   "cell_type": "code",
   "execution_count": null,
   "metadata": {
    "id": "blcSGRfMXulK"
   },
   "outputs": [],
   "source": [
    "#Dropping the unnecessary columns from the concatinated dataset\n",
    "dfV2 = dfV1.drop(['Sol#','CGAC','FPDS Code','AAC Code','Type','BaseType','NaicsCode','ClassificationCode','PrimaryContactEmail','Link'], axis=1)"
   ]
  },
  {
   "cell_type": "code",
   "execution_count": null,
   "metadata": {
    "colab": {
     "base_uri": "https://localhost:8080/",
     "height": 617
    },
    "id": "syCxr9UyD0wg",
    "outputId": "cb26dc77-d7a1-4cf2-ceaf-2e3626fff4a3"
   },
   "outputs": [
    {
     "data": {
      "text/html": [
       "\n",
       "  <div id=\"df-fdbe3b73-ac24-41d1-b788-5a376d465401\">\n",
       "    <div class=\"colab-df-container\">\n",
       "      <div>\n",
       "<style scoped>\n",
       "    .dataframe tbody tr th:only-of-type {\n",
       "        vertical-align: middle;\n",
       "    }\n",
       "\n",
       "    .dataframe tbody tr th {\n",
       "        vertical-align: top;\n",
       "    }\n",
       "\n",
       "    .dataframe thead th {\n",
       "        text-align: right;\n",
       "    }\n",
       "</style>\n",
       "<table border=\"1\" class=\"dataframe\">\n",
       "  <thead>\n",
       "    <tr style=\"text-align: right;\">\n",
       "      <th></th>\n",
       "      <th>NoticeId</th>\n",
       "      <th>Title</th>\n",
       "      <th>Department/Ind.Agency</th>\n",
       "      <th>Sub-Tier</th>\n",
       "      <th>Office</th>\n",
       "      <th>PostedDate</th>\n",
       "      <th>ArchiveType</th>\n",
       "      <th>ArchiveDate</th>\n",
       "      <th>Active</th>\n",
       "      <th>AwardDate</th>\n",
       "      <th>Award$</th>\n",
       "      <th>Awardee</th>\n",
       "      <th>PrimaryContactFullname</th>\n",
       "      <th>OrganizationType</th>\n",
       "      <th>State</th>\n",
       "      <th>City</th>\n",
       "      <th>ZipCode</th>\n",
       "      <th>CountryCode</th>\n",
       "    </tr>\n",
       "  </thead>\n",
       "  <tbody>\n",
       "    <tr>\n",
       "      <th>0</th>\n",
       "      <td>425a9edc53e84373aeb2826644ac97b6</td>\n",
       "      <td>66--Airfield Friction Tester</td>\n",
       "      <td>DEPT OF DEFENSE</td>\n",
       "      <td>DEPT OF THE ARMY</td>\n",
       "      <td>W7N4 USPFO ACTIVITY VT ARNG</td>\n",
       "      <td>2020-09-30 23:57:23.594-04</td>\n",
       "      <td>autocustom</td>\n",
       "      <td>2021-03-24</td>\n",
       "      <td>No</td>\n",
       "      <td>2020-09-30</td>\n",
       "      <td>75706.10</td>\n",
       "      <td>HALLIDAY TECHNOLOGIES INC [DUNS: 011448375],10...</td>\n",
       "      <td>Name: Marketplace Support, Title: Marketplace ...</td>\n",
       "      <td>OFFICE</td>\n",
       "      <td>VT</td>\n",
       "      <td>COLCHESTER</td>\n",
       "      <td>05446-3099</td>\n",
       "      <td>USA</td>\n",
       "    </tr>\n",
       "    <tr>\n",
       "      <th>1</th>\n",
       "      <td>cbdb7b8ee8de4179b25c36e3b4819a2c</td>\n",
       "      <td>65--COVID 19 cleaning supplies</td>\n",
       "      <td>STATE, DEPARTMENT OF</td>\n",
       "      <td>STATE, DEPARTMENT OF</td>\n",
       "      <td>ACQUISITIONS - AQM MOMENTUM</td>\n",
       "      <td>2020-09-30 23:53:02.228-04</td>\n",
       "      <td>autocustom</td>\n",
       "      <td>2021-03-29</td>\n",
       "      <td>No</td>\n",
       "      <td>2020-09-30</td>\n",
       "      <td>11876.98</td>\n",
       "      <td>KAN HERITAGE INC [DUNS: 079669146],7620 FOLSOM...</td>\n",
       "      <td>Name: Marketplace Support, Title: Marketplace ...</td>\n",
       "      <td>OFFICE</td>\n",
       "      <td>DC</td>\n",
       "      <td>WASHINGTON</td>\n",
       "      <td>20520</td>\n",
       "      <td>USA</td>\n",
       "    </tr>\n",
       "    <tr>\n",
       "      <th>2</th>\n",
       "      <td>c8609373b0734f1aa5d9dcdf7e26f4c6</td>\n",
       "      <td>58--Voyager DSV</td>\n",
       "      <td>STATE, DEPARTMENT OF</td>\n",
       "      <td>STATE, DEPARTMENT OF</td>\n",
       "      <td>ACQUISITIONS - AQM MOMENTUM</td>\n",
       "      <td>2020-09-30 23:48:57.306-04</td>\n",
       "      <td>autocustom</td>\n",
       "      <td>2021-03-29</td>\n",
       "      <td>No</td>\n",
       "      <td>2020-09-30</td>\n",
       "      <td>110867.00</td>\n",
       "      <td>LIGHTFOOT COMMUNICATIONS LLC [DUNS: 943850268]...</td>\n",
       "      <td>Name: Marketplace Support, Title: Marketplace ...</td>\n",
       "      <td>OFFICE</td>\n",
       "      <td>DC</td>\n",
       "      <td>WASHINGTON</td>\n",
       "      <td>20520</td>\n",
       "      <td>USA</td>\n",
       "    </tr>\n",
       "    <tr>\n",
       "      <th>5</th>\n",
       "      <td>ae8fbaa409e4455f8ff793d9a0dbd775</td>\n",
       "      <td>89--1st Quarter National Menu - PIZZA, TACO SH...</td>\n",
       "      <td>JUSTICE, DEPARTMENT OF</td>\n",
       "      <td>FEDERAL PRISON SYSTEM / BUREAU OF PRISONS</td>\n",
       "      <td>USP LEAVENWORTH</td>\n",
       "      <td>2020-09-30 23:42:27.469-04</td>\n",
       "      <td>autocustom</td>\n",
       "      <td>2021-03-08</td>\n",
       "      <td>No</td>\n",
       "      <td>2020-09-30</td>\n",
       "      <td>4950.00</td>\n",
       "      <td>SHAVER FOODS, LLC [DUNS: 139747026],1367 S BEE...</td>\n",
       "      <td>Name: Marketplace Support, Title: Marketplace ...</td>\n",
       "      <td>OFFICE</td>\n",
       "      <td>KS</td>\n",
       "      <td>LEAVENWORTH</td>\n",
       "      <td>66048</td>\n",
       "      <td>USA</td>\n",
       "    </tr>\n",
       "    <tr>\n",
       "      <th>6</th>\n",
       "      <td>0168177cc7ed495f8ed92240d8e73b1a</td>\n",
       "      <td>89--1st Quarter National Menu - Cereal</td>\n",
       "      <td>JUSTICE, DEPARTMENT OF</td>\n",
       "      <td>FEDERAL PRISON SYSTEM / BUREAU OF PRISONS</td>\n",
       "      <td>USP LEAVENWORTH</td>\n",
       "      <td>2020-09-30 23:41:22.285-04</td>\n",
       "      <td>autocustom</td>\n",
       "      <td>2021-03-08</td>\n",
       "      <td>No</td>\n",
       "      <td>2020-09-30</td>\n",
       "      <td>14380.00</td>\n",
       "      <td>SHAVER FOODS, LLC [DUNS: 139747026],1367 S BEE...</td>\n",
       "      <td>Name: Marketplace Support, Title: Marketplace ...</td>\n",
       "      <td>OFFICE</td>\n",
       "      <td>KS</td>\n",
       "      <td>LEAVENWORTH</td>\n",
       "      <td>66048</td>\n",
       "      <td>USA</td>\n",
       "    </tr>\n",
       "  </tbody>\n",
       "</table>\n",
       "</div>\n",
       "      <button class=\"colab-df-convert\" onclick=\"convertToInteractive('df-fdbe3b73-ac24-41d1-b788-5a376d465401')\"\n",
       "              title=\"Convert this dataframe to an interactive table.\"\n",
       "              style=\"display:none;\">\n",
       "        \n",
       "  <svg xmlns=\"http://www.w3.org/2000/svg\" height=\"24px\"viewBox=\"0 0 24 24\"\n",
       "       width=\"24px\">\n",
       "    <path d=\"M0 0h24v24H0V0z\" fill=\"none\"/>\n",
       "    <path d=\"M18.56 5.44l.94 2.06.94-2.06 2.06-.94-2.06-.94-.94-2.06-.94 2.06-2.06.94zm-11 1L8.5 8.5l.94-2.06 2.06-.94-2.06-.94L8.5 2.5l-.94 2.06-2.06.94zm10 10l.94 2.06.94-2.06 2.06-.94-2.06-.94-.94-2.06-.94 2.06-2.06.94z\"/><path d=\"M17.41 7.96l-1.37-1.37c-.4-.4-.92-.59-1.43-.59-.52 0-1.04.2-1.43.59L10.3 9.45l-7.72 7.72c-.78.78-.78 2.05 0 2.83L4 21.41c.39.39.9.59 1.41.59.51 0 1.02-.2 1.41-.59l7.78-7.78 2.81-2.81c.8-.78.8-2.07 0-2.86zM5.41 20L4 18.59l7.72-7.72 1.47 1.35L5.41 20z\"/>\n",
       "  </svg>\n",
       "      </button>\n",
       "      \n",
       "  <style>\n",
       "    .colab-df-container {\n",
       "      display:flex;\n",
       "      flex-wrap:wrap;\n",
       "      gap: 12px;\n",
       "    }\n",
       "\n",
       "    .colab-df-convert {\n",
       "      background-color: #E8F0FE;\n",
       "      border: none;\n",
       "      border-radius: 50%;\n",
       "      cursor: pointer;\n",
       "      display: none;\n",
       "      fill: #1967D2;\n",
       "      height: 32px;\n",
       "      padding: 0 0 0 0;\n",
       "      width: 32px;\n",
       "    }\n",
       "\n",
       "    .colab-df-convert:hover {\n",
       "      background-color: #E2EBFA;\n",
       "      box-shadow: 0px 1px 2px rgba(60, 64, 67, 0.3), 0px 1px 3px 1px rgba(60, 64, 67, 0.15);\n",
       "      fill: #174EA6;\n",
       "    }\n",
       "\n",
       "    [theme=dark] .colab-df-convert {\n",
       "      background-color: #3B4455;\n",
       "      fill: #D2E3FC;\n",
       "    }\n",
       "\n",
       "    [theme=dark] .colab-df-convert:hover {\n",
       "      background-color: #434B5C;\n",
       "      box-shadow: 0px 1px 3px 1px rgba(0, 0, 0, 0.15);\n",
       "      filter: drop-shadow(0px 1px 2px rgba(0, 0, 0, 0.3));\n",
       "      fill: #FFFFFF;\n",
       "    }\n",
       "  </style>\n",
       "\n",
       "      <script>\n",
       "        const buttonEl =\n",
       "          document.querySelector('#df-fdbe3b73-ac24-41d1-b788-5a376d465401 button.colab-df-convert');\n",
       "        buttonEl.style.display =\n",
       "          google.colab.kernel.accessAllowed ? 'block' : 'none';\n",
       "\n",
       "        async function convertToInteractive(key) {\n",
       "          const element = document.querySelector('#df-fdbe3b73-ac24-41d1-b788-5a376d465401');\n",
       "          const dataTable =\n",
       "            await google.colab.kernel.invokeFunction('convertToInteractive',\n",
       "                                                     [key], {});\n",
       "          if (!dataTable) return;\n",
       "\n",
       "          const docLinkHtml = 'Like what you see? Visit the ' +\n",
       "            '<a target=\"_blank\" href=https://colab.research.google.com/notebooks/data_table.ipynb>data table notebook</a>'\n",
       "            + ' to learn more about interactive tables.';\n",
       "          element.innerHTML = '';\n",
       "          dataTable['output_type'] = 'display_data';\n",
       "          await google.colab.output.renderOutput(dataTable, element);\n",
       "          const docLink = document.createElement('div');\n",
       "          docLink.innerHTML = docLinkHtml;\n",
       "          element.appendChild(docLink);\n",
       "        }\n",
       "      </script>\n",
       "    </div>\n",
       "  </div>\n",
       "  "
      ],
      "text/plain": [
       "                           NoticeId  \\\n",
       "0  425a9edc53e84373aeb2826644ac97b6   \n",
       "1  cbdb7b8ee8de4179b25c36e3b4819a2c   \n",
       "2  c8609373b0734f1aa5d9dcdf7e26f4c6   \n",
       "5  ae8fbaa409e4455f8ff793d9a0dbd775   \n",
       "6  0168177cc7ed495f8ed92240d8e73b1a   \n",
       "\n",
       "                                               Title   Department/Ind.Agency  \\\n",
       "0                       66--Airfield Friction Tester         DEPT OF DEFENSE   \n",
       "1                     65--COVID 19 cleaning supplies    STATE, DEPARTMENT OF   \n",
       "2                                    58--Voyager DSV    STATE, DEPARTMENT OF   \n",
       "5  89--1st Quarter National Menu - PIZZA, TACO SH...  JUSTICE, DEPARTMENT OF   \n",
       "6             89--1st Quarter National Menu - Cereal  JUSTICE, DEPARTMENT OF   \n",
       "\n",
       "                                    Sub-Tier                       Office  \\\n",
       "0                           DEPT OF THE ARMY  W7N4 USPFO ACTIVITY VT ARNG   \n",
       "1                       STATE, DEPARTMENT OF  ACQUISITIONS - AQM MOMENTUM   \n",
       "2                       STATE, DEPARTMENT OF  ACQUISITIONS - AQM MOMENTUM   \n",
       "5  FEDERAL PRISON SYSTEM / BUREAU OF PRISONS              USP LEAVENWORTH   \n",
       "6  FEDERAL PRISON SYSTEM / BUREAU OF PRISONS              USP LEAVENWORTH   \n",
       "\n",
       "                   PostedDate ArchiveType ArchiveDate Active   AwardDate  \\\n",
       "0  2020-09-30 23:57:23.594-04  autocustom  2021-03-24     No  2020-09-30   \n",
       "1  2020-09-30 23:53:02.228-04  autocustom  2021-03-29     No  2020-09-30   \n",
       "2  2020-09-30 23:48:57.306-04  autocustom  2021-03-29     No  2020-09-30   \n",
       "5  2020-09-30 23:42:27.469-04  autocustom  2021-03-08     No  2020-09-30   \n",
       "6  2020-09-30 23:41:22.285-04  autocustom  2021-03-08     No  2020-09-30   \n",
       "\n",
       "      Award$                                            Awardee  \\\n",
       "0   75706.10  HALLIDAY TECHNOLOGIES INC [DUNS: 011448375],10...   \n",
       "1   11876.98  KAN HERITAGE INC [DUNS: 079669146],7620 FOLSOM...   \n",
       "2  110867.00  LIGHTFOOT COMMUNICATIONS LLC [DUNS: 943850268]...   \n",
       "5    4950.00  SHAVER FOODS, LLC [DUNS: 139747026],1367 S BEE...   \n",
       "6   14380.00  SHAVER FOODS, LLC [DUNS: 139747026],1367 S BEE...   \n",
       "\n",
       "                              PrimaryContactFullname OrganizationType State  \\\n",
       "0  Name: Marketplace Support, Title: Marketplace ...           OFFICE    VT   \n",
       "1  Name: Marketplace Support, Title: Marketplace ...           OFFICE    DC   \n",
       "2  Name: Marketplace Support, Title: Marketplace ...           OFFICE    DC   \n",
       "5  Name: Marketplace Support, Title: Marketplace ...           OFFICE    KS   \n",
       "6  Name: Marketplace Support, Title: Marketplace ...           OFFICE    KS   \n",
       "\n",
       "          City     ZipCode CountryCode  \n",
       "0   COLCHESTER  05446-3099         USA  \n",
       "1   WASHINGTON       20520         USA  \n",
       "2   WASHINGTON       20520         USA  \n",
       "5  LEAVENWORTH       66048         USA  \n",
       "6  LEAVENWORTH       66048         USA  "
      ]
     },
     "execution_count": 129,
     "metadata": {},
     "output_type": "execute_result"
    }
   ],
   "source": [
    "dfV2.head()"
   ]
  },
  {
   "cell_type": "code",
   "execution_count": null,
   "metadata": {
    "colab": {
     "base_uri": "https://localhost:8080/"
    },
    "id": "uzvx7qt2AFSC",
    "outputId": "972343c0-0e8e-421c-ba1f-b5ef402ff3ab"
   },
   "outputs": [
    {
     "data": {
      "text/plain": [
       "NoticeId                     0\n",
       "Title                        1\n",
       "Department/Ind.Agency     4765\n",
       "Sub-Tier                  4765\n",
       "Office                    4765\n",
       "PostedDate                   0\n",
       "ArchiveType                  0\n",
       "ArchiveDate                 70\n",
       "Active                       0\n",
       "AwardDate                    9\n",
       "Award$                    2829\n",
       "Awardee                      8\n",
       "PrimaryContactFullname    3078\n",
       "OrganizationType          4765\n",
       "State                     4931\n",
       "City                      4775\n",
       "ZipCode                   4931\n",
       "CountryCode               4767\n",
       "dtype: int64"
      ]
     },
     "execution_count": 130,
     "metadata": {},
     "output_type": "execute_result"
    }
   ],
   "source": [
    "dfV2.isna().sum()"
   ]
  },
  {
   "cell_type": "code",
   "execution_count": null,
   "metadata": {
    "id": "m-_XOlxva5P-"
   },
   "outputs": [],
   "source": [
    "dfV2 = dfV2.dropna(subset=['AwardDate','Award$','Awardee'])"
   ]
  },
  {
   "cell_type": "code",
   "execution_count": null,
   "metadata": {
    "colab": {
     "base_uri": "https://localhost:8080/"
    },
    "id": "e5YzgrUoa8kN",
    "outputId": "69fd5815-edd5-4e8e-9f86-d3aa1201dcd3"
   },
   "outputs": [
    {
     "data": {
      "text/plain": [
       "NoticeId                     0\n",
       "Title                        1\n",
       "Department/Ind.Agency     4026\n",
       "Sub-Tier                  4026\n",
       "Office                    4026\n",
       "PostedDate                   0\n",
       "ArchiveType                  0\n",
       "ArchiveDate                  7\n",
       "Active                       0\n",
       "AwardDate                    0\n",
       "Award$                       0\n",
       "Awardee                      0\n",
       "PrimaryContactFullname    3078\n",
       "OrganizationType          4026\n",
       "State                     4181\n",
       "City                      4036\n",
       "ZipCode                   4181\n",
       "CountryCode               4028\n",
       "dtype: int64"
      ]
     },
     "execution_count": 132,
     "metadata": {},
     "output_type": "execute_result"
    }
   ],
   "source": [
    "dfV2.isna().sum()"
   ]
  },
  {
   "cell_type": "code",
   "execution_count": null,
   "metadata": {
    "id": "D_z8ijm1HDWg"
   },
   "outputs": [],
   "source": [
    "# converting the Archived date column from object type to Date type and deleting the errored dates\n",
    "\n",
    "dfV2['ArchiveDate'] = pd.to_datetime(dfV2['ArchiveDate'], errors='coerce')\n",
    "out_of_bounds_mask = dfV2['ArchiveDate'].isnull()\n",
    "dfV2 = dfV2[~out_of_bounds_mask]"
   ]
  },
  {
   "cell_type": "markdown",
   "metadata": {
    "id": "wtZY5Wk0TCgz"
   },
   "source": [
    "### 2. Exploratory Data Analysis"
   ]
  },
  {
   "cell_type": "markdown",
   "metadata": {
    "id": "euNvOMu4TXrR"
   },
   "source": [
    "#### 2.1. Which Awardee managed large contracts?"
   ]
  },
  {
   "cell_type": "code",
   "execution_count": null,
   "metadata": {
    "colab": {
     "base_uri": "https://localhost:8080/",
     "height": 972
    },
    "id": "aBveYLsO6_K-",
    "outputId": "589c1a24-6c92-4900-8eb5-136a68231a70"
   },
   "outputs": [
    {
     "data": {
      "text/plain": [
       "Text(0.5, 1.0, 'Awardee VS Award$')"
      ]
     },
     "execution_count": 134,
     "metadata": {},
     "output_type": "execute_result"
    },
    {
     "data": {
      "image/png": "[encoded data removed]",
      "text/plain": [
       "<Figure size 640x480 with 1 Axes>"
      ]
     },
     "metadata": {},
     "output_type": "display_data"
    }
   ],
   "source": [
    "#Here I am plotting a graph to know which awardee got highest sum of Award in dollars\n",
    "\n",
    "Award_df = dfV2.groupby('Awardee')['Award$'].sum().reset_index()\n",
    "\n",
    "# Rearranging the dataset in descending order based on the global sales\n",
    "Award_df = Award_df.sort_values('Award$', ascending=False)\n",
    "fig = plt.bar(Award_df['Awardee'][:10],Award_df['Award$'][:10])\n",
    "plt.xticks(rotation='vertical')\n",
    "plt.xlabel('Awardee')\n",
    "plt.ylabel('Award$')\n",
    "plt.title('Awardee VS Award$')"
   ]
  },
  {
   "cell_type": "code",
   "execution_count": null,
   "metadata": {
    "colab": {
     "base_uri": "https://localhost:8080/",
     "height": 423
    },
    "id": "7zQOrnX3bus6",
    "outputId": "4d779672-5f9f-4c64-9642-25b6fb4fca55"
   },
   "outputs": [
    {
     "data": {
      "text/html": [
       "\n",
       "  <div id=\"df-c3bcc456-1895-4498-b999-7809290a5d6e\">\n",
       "    <div class=\"colab-df-container\">\n",
       "      <div>\n",
       "<style scoped>\n",
       "    .dataframe tbody tr th:only-of-type {\n",
       "        vertical-align: middle;\n",
       "    }\n",
       "\n",
       "    .dataframe tbody tr th {\n",
       "        vertical-align: top;\n",
       "    }\n",
       "\n",
       "    .dataframe thead th {\n",
       "        text-align: right;\n",
       "    }\n",
       "</style>\n",
       "<table border=\"1\" class=\"dataframe\">\n",
       "  <thead>\n",
       "    <tr style=\"text-align: right;\">\n",
       "      <th></th>\n",
       "      <th>Awardee</th>\n",
       "      <th>Award$</th>\n",
       "    </tr>\n",
       "  </thead>\n",
       "  <tbody>\n",
       "    <tr>\n",
       "      <th>6903</th>\n",
       "      <td>BIG DADDY FOODS INC TX 77024-4559 USA</td>\n",
       "      <td>1.530622e+14</td>\n",
       "    </tr>\n",
       "    <tr>\n",
       "      <th>46562</th>\n",
       "      <td>See description for awardee names Washington D...</td>\n",
       "      <td>3.400000e+11</td>\n",
       "    </tr>\n",
       "    <tr>\n",
       "      <th>34056</th>\n",
       "      <td>Multiple Washington DC USA</td>\n",
       "      <td>2.510016e+11</td>\n",
       "    </tr>\n",
       "    <tr>\n",
       "      <th>51361</th>\n",
       "      <td>Unknown_contractor</td>\n",
       "      <td>2.422500e+11</td>\n",
       "    </tr>\n",
       "    <tr>\n",
       "      <th>31322</th>\n",
       "      <td>MCKESSON CORPORATION;6555 STATE HIGHWAY 161;IR...</td>\n",
       "      <td>6.180336e+10</td>\n",
       "    </tr>\n",
       "    <tr>\n",
       "      <th>...</th>\n",
       "      <td>...</td>\n",
       "      <td>...</td>\n",
       "    </tr>\n",
       "    <tr>\n",
       "      <th>25181</th>\n",
       "      <td>IRVING BURTON ASSOCIATES, LLC FALLS CHURCH 22041</td>\n",
       "      <td>0.000000e+00</td>\n",
       "    </tr>\n",
       "    <tr>\n",
       "      <th>40876</th>\n",
       "      <td>REDCON SOLUTIONS GROUP LLC [UEI: HQXXAB4DV7H3]</td>\n",
       "      <td>0.000000e+00</td>\n",
       "    </tr>\n",
       "    <tr>\n",
       "      <th>41601</th>\n",
       "      <td>ROBERT H BARRIOS SAN DIEGO 92110</td>\n",
       "      <td>-9.787300e+02</td>\n",
       "    </tr>\n",
       "    <tr>\n",
       "      <th>2992</th>\n",
       "      <td>AMERIPHYSICS LLC;9111 CROSS PARK DR STE D200;K...</td>\n",
       "      <td>-4.611100e+04</td>\n",
       "    </tr>\n",
       "    <tr>\n",
       "      <th>28334</th>\n",
       "      <td>L-3 COMMUNICATIONS INTEGRATED SYSTEMS L.P. 100...</td>\n",
       "      <td>-3.181622e+05</td>\n",
       "    </tr>\n",
       "  </tbody>\n",
       "</table>\n",
       "<p>54738 rows × 2 columns</p>\n",
       "</div>\n",
       "      <button class=\"colab-df-convert\" onclick=\"convertToInteractive('df-c3bcc456-1895-4498-b999-7809290a5d6e')\"\n",
       "              title=\"Convert this dataframe to an interactive table.\"\n",
       "              style=\"display:none;\">\n",
       "        \n",
       "  <svg xmlns=\"http://www.w3.org/2000/svg\" height=\"24px\"viewBox=\"0 0 24 24\"\n",
       "       width=\"24px\">\n",
       "    <path d=\"M0 0h24v24H0V0z\" fill=\"none\"/>\n",
       "    <path d=\"M18.56 5.44l.94 2.06.94-2.06 2.06-.94-2.06-.94-.94-2.06-.94 2.06-2.06.94zm-11 1L8.5 8.5l.94-2.06 2.06-.94-2.06-.94L8.5 2.5l-.94 2.06-2.06.94zm10 10l.94 2.06.94-2.06 2.06-.94-2.06-.94-.94-2.06-.94 2.06-2.06.94z\"/><path d=\"M17.41 7.96l-1.37-1.37c-.4-.4-.92-.59-1.43-.59-.52 0-1.04.2-1.43.59L10.3 9.45l-7.72 7.72c-.78.78-.78 2.05 0 2.83L4 21.41c.39.39.9.59 1.41.59.51 0 1.02-.2 1.41-.59l7.78-7.78 2.81-2.81c.8-.78.8-2.07 0-2.86zM5.41 20L4 18.59l7.72-7.72 1.47 1.35L5.41 20z\"/>\n",
       "  </svg>\n",
       "      </button>\n",
       "      \n",
       "  <style>\n",
       "    .colab-df-container {\n",
       "      display:flex;\n",
       "      flex-wrap:wrap;\n",
       "      gap: 12px;\n",
       "    }\n",
       "\n",
       "    .colab-df-convert {\n",
       "      background-color: #E8F0FE;\n",
       "      border: none;\n",
       "      border-radius: 50%;\n",
       "      cursor: pointer;\n",
       "      display: none;\n",
       "      fill: #1967D2;\n",
       "      height: 32px;\n",
       "      padding: 0 0 0 0;\n",
       "      width: 32px;\n",
       "    }\n",
       "\n",
       "    .colab-df-convert:hover {\n",
       "      background-color: #E2EBFA;\n",
       "      box-shadow: 0px 1px 2px rgba(60, 64, 67, 0.3), 0px 1px 3px 1px rgba(60, 64, 67, 0.15);\n",
       "      fill: #174EA6;\n",
       "    }\n",
       "\n",
       "    [theme=dark] .colab-df-convert {\n",
       "      background-color: #3B4455;\n",
       "      fill: #D2E3FC;\n",
       "    }\n",
       "\n",
       "    [theme=dark] .colab-df-convert:hover {\n",
       "      background-color: #434B5C;\n",
       "      box-shadow: 0px 1px 3px 1px rgba(0, 0, 0, 0.15);\n",
       "      filter: drop-shadow(0px 1px 2px rgba(0, 0, 0, 0.3));\n",
       "      fill: #FFFFFF;\n",
       "    }\n",
       "  </style>\n",
       "\n",
       "      <script>\n",
       "        const buttonEl =\n",
       "          document.querySelector('#df-c3bcc456-1895-4498-b999-7809290a5d6e button.colab-df-convert');\n",
       "        buttonEl.style.display =\n",
       "          google.colab.kernel.accessAllowed ? 'block' : 'none';\n",
       "\n",
       "        async function convertToInteractive(key) {\n",
       "          const element = document.querySelector('#df-c3bcc456-1895-4498-b999-7809290a5d6e');\n",
       "          const dataTable =\n",
       "            await google.colab.kernel.invokeFunction('convertToInteractive',\n",
       "                                                     [key], {});\n",
       "          if (!dataTable) return;\n",
       "\n",
       "          const docLinkHtml = 'Like what you see? Visit the ' +\n",
       "            '<a target=\"_blank\" href=https://colab.research.google.com/notebooks/data_table.ipynb>data table notebook</a>'\n",
       "            + ' to learn more about interactive tables.';\n",
       "          element.innerHTML = '';\n",
       "          dataTable['output_type'] = 'display_data';\n",
       "          await google.colab.output.renderOutput(dataTable, element);\n",
       "          const docLink = document.createElement('div');\n",
       "          docLink.innerHTML = docLinkHtml;\n",
       "          element.appendChild(docLink);\n",
       "        }\n",
       "      </script>\n",
       "    </div>\n",
       "  </div>\n",
       "  "
      ],
      "text/plain": [
       "                                                 Awardee        Award$\n",
       "6903               BIG DADDY FOODS INC TX 77024-4559 USA  1.530622e+14\n",
       "46562  See description for awardee names Washington D...  3.400000e+11\n",
       "34056                         Multiple Washington DC USA  2.510016e+11\n",
       "51361                                 Unknown_contractor  2.422500e+11\n",
       "31322  MCKESSON CORPORATION;6555 STATE HIGHWAY 161;IR...  6.180336e+10\n",
       "...                                                  ...           ...\n",
       "25181   IRVING BURTON ASSOCIATES, LLC FALLS CHURCH 22041  0.000000e+00\n",
       "40876    REDCON SOLUTIONS GROUP LLC [UEI: HQXXAB4DV7H3]   0.000000e+00\n",
       "41601                   ROBERT H BARRIOS SAN DIEGO 92110 -9.787300e+02\n",
       "2992   AMERIPHYSICS LLC;9111 CROSS PARK DR STE D200;K... -4.611100e+04\n",
       "28334  L-3 COMMUNICATIONS INTEGRATED SYSTEMS L.P. 100... -3.181622e+05\n",
       "\n",
       "[54738 rows x 2 columns]"
      ]
     },
     "execution_count": 135,
     "metadata": {},
     "output_type": "execute_result"
    }
   ],
   "source": [
    "Award_df"
   ]
  },
  {
   "cell_type": "markdown",
   "metadata": {
    "id": "qqCLf3xQ2KIo"
   },
   "source": [
    "Big Daddy Foods INC has handled huge contracts in year between 2020 to 2022."
   ]
  },
  {
   "cell_type": "markdown",
   "metadata": {
    "id": "YszVdO6Xf6TF"
   },
   "source": [
    "#### 2.2. Number of contracts for each states"
   ]
  },
  {
   "cell_type": "code",
   "execution_count": null,
   "metadata": {
    "id": "dAoGX7GkuHUv"
   },
   "outputs": [],
   "source": [
    "def generate_plots(df, column):\n",
    "    \n",
    "    state_counts = df[column].value_counts()\n",
    "    top_5_values = state_counts.head(5)\n",
    "    other_count = state_counts.sum() - top_5_values.sum()\n",
    "    top_5_values['Others'] = other_count\n",
    "\n",
    "    # Bar Chart\n",
    "    plt.figure(figsize=(12,8))\n",
    "    plt.subplot(1, 2, 1)\n",
    "    plt.bar(top_5_values.index, top_5_values.values)\n",
    "    plt.xticks(rotation='vertical')\n",
    "    plt.xlabel(column)\n",
    "    plt.ylabel('No. of contracts')\n",
    "    plt.title('No. of contracts for each {}'.format(column))\n",
    "\n",
    "    # ploting pie chart\n",
    "    plt.subplot(1, 2, 2)\n",
    "    plt.pie(top_5_values, labels=top_5_values.index, autopct='%1.1f%%')\n",
    "    plt.legend(top_5_values.index, title=column, loc='lower left', bbox_to_anchor=(1, 0.5))\n",
    "    plt.title('Distribution of {} in Top 5'.format(column))\n",
    "\n",
    "    plt.tight_layout()\n",
    "\n",
    "    plt.show()"
   ]
  },
  {
   "cell_type": "code",
   "execution_count": null,
   "metadata": {
    "colab": {
     "base_uri": "https://localhost:8080/",
     "height": 787
    },
    "id": "YHoc3bvlvdWV",
    "outputId": "037a0943-6096-4882-8322-357d8499e8bd"
   },
   "outputs": [
    {
     "data": {
      "image/png": "[encoded data removed]",
      "text/plain": [
       "<Figure size 1200x800 with 2 Axes>"
      ]
     },
     "metadata": {},
     "output_type": "display_data"
    }
   ],
   "source": [
    "generate_plots(dfV2,'State')"
   ]
  },
  {
   "cell_type": "code",
   "execution_count": null,
   "metadata": {
    "colab": {
     "base_uri": "https://localhost:8080/",
     "height": 547
    },
    "id": "6UKzh82hynw5",
    "outputId": "7ab429a4-05de-40ac-ae11-57b4093e9401"
   },
   "outputs": [
    {
     "data": {
      "text/html": [
       "\n",
       "  <div id=\"df-d3a213f4-fc68-4b9b-a59c-d86decd3ace3\">\n",
       "    <div class=\"colab-df-container\">\n",
       "      <div>\n",
       "<style scoped>\n",
       "    .dataframe tbody tr th:only-of-type {\n",
       "        vertical-align: middle;\n",
       "    }\n",
       "\n",
       "    .dataframe tbody tr th {\n",
       "        vertical-align: top;\n",
       "    }\n",
       "\n",
       "    .dataframe thead th {\n",
       "        text-align: right;\n",
       "    }\n",
       "</style>\n",
       "<table border=\"1\" class=\"dataframe\">\n",
       "  <thead>\n",
       "    <tr style=\"text-align: right;\">\n",
       "      <th></th>\n",
       "      <th>NoticeId</th>\n",
       "      <th>Title</th>\n",
       "      <th>Department/Ind.Agency</th>\n",
       "      <th>Sub-Tier</th>\n",
       "      <th>Office</th>\n",
       "      <th>PostedDate</th>\n",
       "      <th>ArchiveType</th>\n",
       "      <th>ArchiveDate</th>\n",
       "      <th>Active</th>\n",
       "      <th>AwardDate</th>\n",
       "      <th>Award$</th>\n",
       "      <th>Awardee</th>\n",
       "      <th>PrimaryContactFullname</th>\n",
       "      <th>OrganizationType</th>\n",
       "      <th>State</th>\n",
       "      <th>City</th>\n",
       "      <th>ZipCode</th>\n",
       "      <th>CountryCode</th>\n",
       "    </tr>\n",
       "  </thead>\n",
       "  <tbody>\n",
       "    <tr>\n",
       "      <th>816801</th>\n",
       "      <td>a0abd647c3704fa185918666fd44e993</td>\n",
       "      <td>4th QTR FY22 Subsistence MDC Guaynabo</td>\n",
       "      <td>JUSTICE, DEPARTMENT OF</td>\n",
       "      <td>FEDERAL PRISON SYSTEM / BUREAU OF PRISONS</td>\n",
       "      <td>MDC GUAYANBO</td>\n",
       "      <td>2022-07-15 08:30:28.992-04</td>\n",
       "      <td>auto15</td>\n",
       "      <td>2022-08-13</td>\n",
       "      <td>No</td>\n",
       "      <td>2022-07-29</td>\n",
       "      <td>1.530622e+14</td>\n",
       "      <td>BIG DADDY FOODS INC TX 77024-4559 USA</td>\n",
       "      <td>Rauniel Rivera</td>\n",
       "      <td>OFFICE</td>\n",
       "      <td>PR</td>\n",
       "      <td>CATANO, CATANO</td>\n",
       "      <td>00962</td>\n",
       "      <td>USA</td>\n",
       "    </tr>\n",
       "    <tr>\n",
       "      <th>730418</th>\n",
       "      <td>c394c8792654416baa91d102029a5e2a</td>\n",
       "      <td>Scalable Ways to Implement Flexible Tasks (SWIFT)</td>\n",
       "      <td>HOMELAND SECURITY, DEPARTMENT OF</td>\n",
       "      <td>US IMMIGRATION AND CUSTOMS ENFORCEMENT</td>\n",
       "      <td>INFORMATION TECHNOLOGY DIVISION</td>\n",
       "      <td>2022-09-22 15:18:46.467-04</td>\n",
       "      <td>auto15</td>\n",
       "      <td>2022-09-30</td>\n",
       "      <td>No</td>\n",
       "      <td>2022-09-15</td>\n",
       "      <td>3.400000e+11</td>\n",
       "      <td>See description for awardee names Washington D...</td>\n",
       "      <td>Cristina Williams</td>\n",
       "      <td>OFFICE</td>\n",
       "      <td>DC</td>\n",
       "      <td>WASHINGTON</td>\n",
       "      <td>20024</td>\n",
       "      <td>USA</td>\n",
       "    </tr>\n",
       "    <tr>\n",
       "      <th>320129</th>\n",
       "      <td>2664ce154e984670a65509a43dffd597</td>\n",
       "      <td>65--Pharmaceutical Prime Vendor 2020</td>\n",
       "      <td>VETERANS AFFAIRS, DEPARTMENT OF</td>\n",
       "      <td>VETERANS AFFAIRS, DEPARTMENT OF</td>\n",
       "      <td>NAC PRIME VENDOR (36W797)</td>\n",
       "      <td>2019-12-12 10:19:48.492-05</td>\n",
       "      <td>autocustom</td>\n",
       "      <td>2020-02-09</td>\n",
       "      <td>No</td>\n",
       "      <td>2019-12-11</td>\n",
       "      <td>6.180316e+10</td>\n",
       "      <td>MCKESSON CORPORATION;6555 STATE HIGHWAY 161;IR...</td>\n",
       "      <td>Karen E. Ade Senior Contract Specialist 708-78...</td>\n",
       "      <td>OFFICE</td>\n",
       "      <td>IL</td>\n",
       "      <td>HINES</td>\n",
       "      <td>60141</td>\n",
       "      <td>USA</td>\n",
       "    </tr>\n",
       "    <tr>\n",
       "      <th>581827</th>\n",
       "      <td>a3a0bb7863344ad0ba279cbee7feacc8</td>\n",
       "      <td>nitrile gloves</td>\n",
       "      <td>HEALTH AND HUMAN SERVICES, DEPARTMENT OF</td>\n",
       "      <td>OFFICE OF ASSISTANT SECRETARY FOR PREPAREDNESS...</td>\n",
       "      <td>OFC ASST SEC FOR PREPARENESS  RES</td>\n",
       "      <td>2021-03-18 17:43:17.831-04</td>\n",
       "      <td>auto15</td>\n",
       "      <td>2021-04-02</td>\n",
       "      <td>No</td>\n",
       "      <td>2021-03-18</td>\n",
       "      <td>5.762120e+10</td>\n",
       "      <td>AIRBOSS DEFENSE GROUP, LLC Hyattsville MD USA</td>\n",
       "      <td>Annette Wright</td>\n",
       "      <td>OFFICE</td>\n",
       "      <td>DC</td>\n",
       "      <td>WASHINGTON</td>\n",
       "      <td>20201</td>\n",
       "      <td>USA</td>\n",
       "    </tr>\n",
       "    <tr>\n",
       "      <th>490001</th>\n",
       "      <td>5a193ac7578244f9b9b3e747c6419c25</td>\n",
       "      <td>8(a) STARS III Governmentwide Acquisition Cont...</td>\n",
       "      <td>GENERAL SERVICES ADMINISTRATION</td>\n",
       "      <td>FEDERAL ACQUISITION SERVICE</td>\n",
       "      <td>GSA/FAS ITC OFFICE OF ACQUISITION OPERATIONS, ...</td>\n",
       "      <td>2021-06-17 16:07:50.596-04</td>\n",
       "      <td>auto15</td>\n",
       "      <td>2021-07-02</td>\n",
       "      <td>No</td>\n",
       "      <td>2021-06-17</td>\n",
       "      <td>5.000000e+10</td>\n",
       "      <td>Multiple Washington DC USA</td>\n",
       "      <td>Mr. Jean Fluevog</td>\n",
       "      <td>OFFICE</td>\n",
       "      <td>DC</td>\n",
       "      <td>WASHINGTON</td>\n",
       "      <td>20405</td>\n",
       "      <td>USA</td>\n",
       "    </tr>\n",
       "  </tbody>\n",
       "</table>\n",
       "</div>\n",
       "      <button class=\"colab-df-convert\" onclick=\"convertToInteractive('df-d3a213f4-fc68-4b9b-a59c-d86decd3ace3')\"\n",
       "              title=\"Convert this dataframe to an interactive table.\"\n",
       "              style=\"display:none;\">\n",
       "        \n",
       "  <svg xmlns=\"http://www.w3.org/2000/svg\" height=\"24px\"viewBox=\"0 0 24 24\"\n",
       "       width=\"24px\">\n",
       "    <path d=\"M0 0h24v24H0V0z\" fill=\"none\"/>\n",
       "    <path d=\"M18.56 5.44l.94 2.06.94-2.06 2.06-.94-2.06-.94-.94-2.06-.94 2.06-2.06.94zm-11 1L8.5 8.5l.94-2.06 2.06-.94-2.06-.94L8.5 2.5l-.94 2.06-2.06.94zm10 10l.94 2.06.94-2.06 2.06-.94-2.06-.94-.94-2.06-.94 2.06-2.06.94z\"/><path d=\"M17.41 7.96l-1.37-1.37c-.4-.4-.92-.59-1.43-.59-.52 0-1.04.2-1.43.59L10.3 9.45l-7.72 7.72c-.78.78-.78 2.05 0 2.83L4 21.41c.39.39.9.59 1.41.59.51 0 1.02-.2 1.41-.59l7.78-7.78 2.81-2.81c.8-.78.8-2.07 0-2.86zM5.41 20L4 18.59l7.72-7.72 1.47 1.35L5.41 20z\"/>\n",
       "  </svg>\n",
       "      </button>\n",
       "      \n",
       "  <style>\n",
       "    .colab-df-container {\n",
       "      display:flex;\n",
       "      flex-wrap:wrap;\n",
       "      gap: 12px;\n",
       "    }\n",
       "\n",
       "    .colab-df-convert {\n",
       "      background-color: #E8F0FE;\n",
       "      border: none;\n",
       "      border-radius: 50%;\n",
       "      cursor: pointer;\n",
       "      display: none;\n",
       "      fill: #1967D2;\n",
       "      height: 32px;\n",
       "      padding: 0 0 0 0;\n",
       "      width: 32px;\n",
       "    }\n",
       "\n",
       "    .colab-df-convert:hover {\n",
       "      background-color: #E2EBFA;\n",
       "      box-shadow: 0px 1px 2px rgba(60, 64, 67, 0.3), 0px 1px 3px 1px rgba(60, 64, 67, 0.15);\n",
       "      fill: #174EA6;\n",
       "    }\n",
       "\n",
       "    [theme=dark] .colab-df-convert {\n",
       "      background-color: #3B4455;\n",
       "      fill: #D2E3FC;\n",
       "    }\n",
       "\n",
       "    [theme=dark] .colab-df-convert:hover {\n",
       "      background-color: #434B5C;\n",
       "      box-shadow: 0px 1px 3px 1px rgba(0, 0, 0, 0.15);\n",
       "      filter: drop-shadow(0px 1px 2px rgba(0, 0, 0, 0.3));\n",
       "      fill: #FFFFFF;\n",
       "    }\n",
       "  </style>\n",
       "\n",
       "      <script>\n",
       "        const buttonEl =\n",
       "          document.querySelector('#df-d3a213f4-fc68-4b9b-a59c-d86decd3ace3 button.colab-df-convert');\n",
       "        buttonEl.style.display =\n",
       "          google.colab.kernel.accessAllowed ? 'block' : 'none';\n",
       "\n",
       "        async function convertToInteractive(key) {\n",
       "          const element = document.querySelector('#df-d3a213f4-fc68-4b9b-a59c-d86decd3ace3');\n",
       "          const dataTable =\n",
       "            await google.colab.kernel.invokeFunction('convertToInteractive',\n",
       "                                                     [key], {});\n",
       "          if (!dataTable) return;\n",
       "\n",
       "          const docLinkHtml = 'Like what you see? Visit the ' +\n",
       "            '<a target=\"_blank\" href=https://colab.research.google.com/notebooks/data_table.ipynb>data table notebook</a>'\n",
       "            + ' to learn more about interactive tables.';\n",
       "          element.innerHTML = '';\n",
       "          dataTable['output_type'] = 'display_data';\n",
       "          await google.colab.output.renderOutput(dataTable, element);\n",
       "          const docLink = document.createElement('div');\n",
       "          docLink.innerHTML = docLinkHtml;\n",
       "          element.appendChild(docLink);\n",
       "        }\n",
       "      </script>\n",
       "    </div>\n",
       "  </div>\n",
       "  "
      ],
      "text/plain": [
       "                                NoticeId  \\\n",
       "816801  a0abd647c3704fa185918666fd44e993   \n",
       "730418  c394c8792654416baa91d102029a5e2a   \n",
       "320129  2664ce154e984670a65509a43dffd597   \n",
       "581827  a3a0bb7863344ad0ba279cbee7feacc8   \n",
       "490001  5a193ac7578244f9b9b3e747c6419c25   \n",
       "\n",
       "                                                    Title  \\\n",
       "816801              4th QTR FY22 Subsistence MDC Guaynabo   \n",
       "730418  Scalable Ways to Implement Flexible Tasks (SWIFT)   \n",
       "320129               65--Pharmaceutical Prime Vendor 2020   \n",
       "581827                                     nitrile gloves   \n",
       "490001  8(a) STARS III Governmentwide Acquisition Cont...   \n",
       "\n",
       "                           Department/Ind.Agency  \\\n",
       "816801                    JUSTICE, DEPARTMENT OF   \n",
       "730418          HOMELAND SECURITY, DEPARTMENT OF   \n",
       "320129           VETERANS AFFAIRS, DEPARTMENT OF   \n",
       "581827  HEALTH AND HUMAN SERVICES, DEPARTMENT OF   \n",
       "490001           GENERAL SERVICES ADMINISTRATION   \n",
       "\n",
       "                                                 Sub-Tier  \\\n",
       "816801          FEDERAL PRISON SYSTEM / BUREAU OF PRISONS   \n",
       "730418             US IMMIGRATION AND CUSTOMS ENFORCEMENT   \n",
       "320129                    VETERANS AFFAIRS, DEPARTMENT OF   \n",
       "581827  OFFICE OF ASSISTANT SECRETARY FOR PREPAREDNESS...   \n",
       "490001                        FEDERAL ACQUISITION SERVICE   \n",
       "\n",
       "                                                   Office  \\\n",
       "816801                                       MDC GUAYANBO   \n",
       "730418                    INFORMATION TECHNOLOGY DIVISION   \n",
       "320129                          NAC PRIME VENDOR (36W797)   \n",
       "581827                  OFC ASST SEC FOR PREPARENESS  RES   \n",
       "490001  GSA/FAS ITC OFFICE OF ACQUISITION OPERATIONS, ...   \n",
       "\n",
       "                        PostedDate ArchiveType ArchiveDate Active   AwardDate  \\\n",
       "816801  2022-07-15 08:30:28.992-04      auto15  2022-08-13     No  2022-07-29   \n",
       "730418  2022-09-22 15:18:46.467-04      auto15  2022-09-30     No  2022-09-15   \n",
       "320129  2019-12-12 10:19:48.492-05  autocustom  2020-02-09     No  2019-12-11   \n",
       "581827  2021-03-18 17:43:17.831-04      auto15  2021-04-02     No  2021-03-18   \n",
       "490001  2021-06-17 16:07:50.596-04      auto15  2021-07-02     No  2021-06-17   \n",
       "\n",
       "              Award$                                            Awardee  \\\n",
       "816801  1.530622e+14              BIG DADDY FOODS INC TX 77024-4559 USA   \n",
       "730418  3.400000e+11  See description for awardee names Washington D...   \n",
       "320129  6.180316e+10  MCKESSON CORPORATION;6555 STATE HIGHWAY 161;IR...   \n",
       "581827  5.762120e+10      AIRBOSS DEFENSE GROUP, LLC Hyattsville MD USA   \n",
       "490001  5.000000e+10                         Multiple Washington DC USA   \n",
       "\n",
       "                                   PrimaryContactFullname OrganizationType  \\\n",
       "816801                                     Rauniel Rivera           OFFICE   \n",
       "730418                                  Cristina Williams           OFFICE   \n",
       "320129  Karen E. Ade Senior Contract Specialist 708-78...           OFFICE   \n",
       "581827                                     Annette Wright           OFFICE   \n",
       "490001                                   Mr. Jean Fluevog           OFFICE   \n",
       "\n",
       "       State            City ZipCode CountryCode  \n",
       "816801    PR  CATANO, CATANO   00962         USA  \n",
       "730418    DC      WASHINGTON   20024         USA  \n",
       "320129    IL           HINES   60141         USA  \n",
       "581827    DC      WASHINGTON   20201         USA  \n",
       "490001    DC      WASHINGTON   20405         USA  "
      ]
     },
     "execution_count": 138,
     "metadata": {},
     "output_type": "execute_result"
    }
   ],
   "source": [
    "Sorted_df = dfV2.sort_values('Award$', ascending=False)\n",
    "Sorted_df.head()"
   ]
  },
  {
   "cell_type": "markdown",
   "metadata": {
    "id": "Sqw4JByvPxn1"
   },
   "source": [
    "### 3. Hypothesis"
   ]
  },
  {
   "cell_type": "markdown",
   "metadata": {
    "id": "u1GSVmwkjUpk"
   },
   "source": [
    "#### 3.1. Based on the year from 2020 to 2022, contracts which are properly documented and archived are decreased due to covid effects.\n",
    "\n"
   ]
  },
  {
   "cell_type": "code",
   "execution_count": null,
   "metadata": {
    "colab": {
     "base_uri": "https://localhost:8080/",
     "height": 493
    },
    "id": "91KR1Pmj5p_a",
    "outputId": "51781548-8c59-4707-e35b-9b85275ff3b1"
   },
   "outputs": [
    {
     "data": {
      "image/png": "[encoded data removed]",
      "text/plain": [
       "<Figure size 640x480 with 1 Axes>"
      ]
     },
     "metadata": {},
     "output_type": "display_data"
    }
   ],
   "source": [
    "dfV2['ArchiveDate'] = pd.to_datetime(dfV2['ArchiveDate'])\n",
    "contracts_by_year = dfV2.groupby(dfV2['ArchiveDate'].dt.year)['NoticeId'].count()\n",
    "\n",
    "# Line plot of total contracts based on year\n",
    "plt.plot(contracts_by_year.index, contracts_by_year.values)\n",
    "plt.xlabel('Year')\n",
    "plt.ylabel('Total Contracts')\n",
    "plt.title('Total Contracts Archived by Year')\n",
    "plt.xticks(rotation=45)\n",
    "plt.show()"
   ]
  },
  {
   "cell_type": "markdown",
   "metadata": {
    "id": "X73zK-grv4fZ"
   },
   "source": [
    "As shown in the graph above, the overall number of contracts is falling each year between 2020 and 2022 as a result of how the corona breakout has affected the contracts."
   ]
  },
  {
   "cell_type": "markdown",
   "metadata": {
    "id": "_9vaLiQnq1Nr"
   },
   "source": [
    "#### 3.2. Department of defence and agricultural contracts are arhchived more compared to other departments."
   ]
  },
  {
   "cell_type": "code",
   "execution_count": null,
   "metadata": {
    "colab": {
     "base_uri": "https://localhost:8080/",
     "height": 787
    },
    "id": "XinHNzMbvwXH",
    "outputId": "db217538-4dd6-49b0-e63f-5809a3e75186"
   },
   "outputs": [
    {
     "data": {
      "image/png": "[encoded data removed]",
      "text/plain": [
       "<Figure size 1200x800 with 2 Axes>"
      ]
     },
     "metadata": {},
     "output_type": "display_data"
    }
   ],
   "source": [
    "generate_plots(dfV2,'Department/Ind.Agency')"
   ]
  },
  {
   "cell_type": "markdown",
   "metadata": {
    "id": "BhswR3qbrB3X"
   },
   "source": [
    "As per the above graphs, some part of hypothesis is true because Department of defense has highest number of contracts and Agriculture contracts are less."
   ]
  },
  {
   "cell_type": "code",
   "execution_count": null,
   "metadata": {
    "colab": {
     "base_uri": "https://localhost:8080/"
    },
    "id": "be3JVFCd18Yt",
    "outputId": "2dcaea6f-48c3-4808-bd17-dcd406389f18"
   },
   "outputs": [
    {
     "name": "stdout",
     "output_type": "stream",
     "text": [
      "Execution time: 228.75 seconds\n"
     ]
    }
   ],
   "source": [
    "end_time = time.time()\n",
    "\n",
    "# Calculate the execution time in seconds\n",
    "execution_time = end_time - start_time\n",
    "\n",
    "# Print the execution time\n",
    "print(\"Execution time: {:.2f} seconds\".format(execution_time))"
   ]
  }
 ],
 "metadata": {
  "accelerator": "TPU",
  "colab": {
   "provenance": []
  },
  "gpuClass": "standard",
  "kernelspec": {
   "display_name": "Python 3 (ipykernel)",
   "language": "python",
   "name": "python3"
  },
  "language_info": {
   "codemirror_mode": {
    "name": "ipython",
    "version": 3
   },
   "file_extension": ".py",
   "mimetype": "text/x-python",
   "name": "python",
   "nbconvert_exporter": "python",
   "pygments_lexer": "ipython3",
   "version": "3.10.9"
  }
 },
 "nbformat": 4,
 "nbformat_minor": 1
}
